{
 "cells": [
  {
   "cell_type": "code",
   "execution_count": 1,
   "metadata": {},
   "outputs": [
    {
     "name": "stdout",
     "output_type": "stream",
     "text": [
      "1 relu layer is added\n",
      "1 relu layer is added\n",
      "1 softmax layer is added\n"
     ]
    }
   ],
   "source": [
    "# -*- coding: utf-8 -*-\n",
    "from __future__ import print_function\n",
    "import sys\n",
    "# from agents import *\n",
    "sys.path.append(\"/home1/gyrbsdl/jupyter_notebook/isearch/agent\")\n",
    "from agents_20171028 import *\n",
    "\n",
    "import numpy as np\n",
    "import tensorflow as tf\n",
    "import matplotlib.pyplot as plt\n",
    "\n",
    "### where path to read & write\n",
    "\n",
    "notebook_name = \"train_CartPole_deep\"\n",
    "BASE_DIR = './'\n",
    "CHECK_POINT_DIR = BASE_DIR+notebook_name\n",
    "TB_SUMMARY_DIR = CHECK_POINT_DIR+\"/tb_summary\"\n",
    "\n",
    "### what env to use ###\n",
    "\n",
    "import gym\n",
    "env = gym.make('CartPole-v0')\n",
    "\n",
    "state_space_size = 0\n",
    "\n",
    "try:\n",
    "    state_space_size = env.observation_space.n\n",
    "except:\n",
    "    state_space_size = env.observation_space.shape[0]\n",
    "action_space_size = env.action_space.n\n",
    "layers = [state_space_size, 16, 8, action_space_size]\n",
    "\n",
    "init_learning_rate = 1e-3\n",
    "min_learning_rate = 1e-7\n",
    "decay_learning_rate = 0.7\n",
    "previous_loss = 99999\n",
    "learning_frequency = 10\n",
    "agent = MultilayerPolicyGradient(learning_rate=init_learning_rate, discount_factor=0.99,\n",
    "                                 layers=layers, reward_standardize=True) #Load the agent."
   ]
  },
  {
   "cell_type": "code",
   "execution_count": 2,
   "metadata": {},
   "outputs": [
    {
     "name": "stdout",
     "output_type": "stream",
     "text": [
      "./train_CartPole_deep removed\n"
     ]
    }
   ],
   "source": [
    "import shutil\n",
    "try:\n",
    "    shutil.rmtree(CHECK_POINT_DIR)\n",
    "    print CHECK_POINT_DIR, \"removed\"\n",
    "except:\n",
    "    print CHECK_POINT_DIR, \"does not exists yet\"\n"
   ]
  },
  {
   "cell_type": "code",
   "execution_count": 3,
   "metadata": {},
   "outputs": [],
   "source": [
    "def print_now():\n",
    "    import datetime\n",
    "    from dateutil.tz import tzlocal\n",
    "\n",
    "    # Get the current date/time with the timezone.\n",
    "    now = datetime.datetime.now(tzlocal())\n",
    "    fmt1 = now.strftime('%Y-%m-%d %A %H:%M:%S %Z')\n",
    "\n",
    "    # Print it out.\n",
    "    print 'now: %s' % (fmt1)\n",
    "    \n",
    "def try_and_error(env, agent, total_episodes,\n",
    "                  update_frequency, learning_rate_frequency, debug_frequency,\n",
    "                  is_train = True\n",
    "                 ):\n",
    "    total_reward = []\n",
    "    min_learning_rate = 1e-10\n",
    "    decay_learning_rate = 0.9\n",
    "    previous_loss = 9e+10\n",
    "    last_save_name = \"\"\n",
    "\n",
    "    for i in range(total_episodes):\n",
    "        s = env.reset()\n",
    "        reward_sum = 0\n",
    "        \n",
    "        done = False\n",
    "        while not done:\n",
    "            # Run the policy network and get an action to take.\n",
    "            if is_train == True:\n",
    "                action = agent.get_action(sess, s)\n",
    "            else:\n",
    "                action = agent.exploit(sess, s)\n",
    "            \n",
    "            # step the environment and get new measurements\n",
    "            observation, reward, done, _ = env.step(action)\n",
    "            reward_sum += reward\n",
    "            agent.after_action(sess, reward)\n",
    "            \n",
    "            s = observation\n",
    "        \n",
    "        if is_train == True:\n",
    "            loss , _ , _ = agent.after_episode(sess)\n",
    "            # If we have completed enough episodes, then update the policy network with our gradients.\n",
    "            if i % update_frequency == 0 and i != 0:\n",
    "                agent.after_batch(sess)\n",
    "\n",
    "            # decaying learning rate\n",
    "            if i % learning_rate_frequency == 0 and i != 0:\n",
    "                if (loss > previous_loss and agent.learning_rate >= min_learning_rate):\n",
    "                    agent.learning_rate = agent.learning_rate * decay_learning_rate\n",
    "                    print \"i:\", i, \"new agent.learning_rate\", agent.learning_rate\n",
    "                previous_loss = loss\n",
    "\n",
    "        total_reward.append(reward_sum)\n",
    "        \n",
    "        #Update our running tally of scores.\n",
    "        if i % debug_frequency == 0:\n",
    "            print \"-------------------------------------------\"\n",
    "            print_now()\n",
    "            mean = np.mean(total_reward)\n",
    "            print i, (mean)\n",
    "            plt_means.append(mean)\n",
    "            total_reward = []\n",
    "            if is_train == True and loss <= previous_loss:\n",
    "                # save only better model\n",
    "                agent.save_model(sess, CHECK_POINT_DIR)\n"
   ]
  },
  {
   "cell_type": "code",
   "execution_count": 4,
   "metadata": {},
   "outputs": [
    {
     "name": "stdout",
     "output_type": "stream",
     "text": [
      "-------------------------------------------\n",
      "now: 2017-11-01 Wednesday 16:06:53 KST\n",
      "0 21.0\n",
      "('Model saved at', './train_CartPole_deep')\n",
      "i: 100 new agent.learning_rate 0.0009\n",
      "-------------------------------------------\n",
      "now: 2017-11-01 Wednesday 16:06:54 KST\n",
      "100 22.64\n",
      "('Model saved at', './train_CartPole_deep')\n",
      "i: 150 new agent.learning_rate 0.00081\n",
      "-------------------------------------------\n",
      "now: 2017-11-01 Wednesday 16:06:55 KST\n",
      "200 27.37\n",
      "('Model saved at', './train_CartPole_deep')\n",
      "i: 250 new agent.learning_rate 0.000729\n",
      "-------------------------------------------\n",
      "now: 2017-11-01 Wednesday 16:06:56 KST\n",
      "300 28.1\n",
      "('Model saved at', './train_CartPole_deep')\n",
      "i: 350 new agent.learning_rate 0.0006561\n",
      "-------------------------------------------\n",
      "now: 2017-11-01 Wednesday 16:06:58 KST\n",
      "400 26.31\n",
      "('Model saved at', './train_CartPole_deep')\n",
      "i: 450 new agent.learning_rate 0.00059049\n",
      "-------------------------------------------\n",
      "now: 2017-11-01 Wednesday 16:06:59 KST\n",
      "500 32.11\n",
      "('Model saved at', './train_CartPole_deep')\n",
      "i: 550 new agent.learning_rate 0.000531441\n",
      "-------------------------------------------\n",
      "now: 2017-11-01 Wednesday 16:07:01 KST\n",
      "600 42.22\n",
      "('Model saved at', './train_CartPole_deep')\n",
      "i: 700 new agent.learning_rate 0.0004782969\n",
      "-------------------------------------------\n",
      "now: 2017-11-01 Wednesday 16:07:03 KST\n",
      "700 48.79\n",
      "('Model saved at', './train_CartPole_deep')\n",
      "-------------------------------------------\n",
      "now: 2017-11-01 Wednesday 16:07:05 KST\n",
      "800 54.5\n",
      "('Model saved at', './train_CartPole_deep')\n",
      "i: 900 new agent.learning_rate 0.00043046721\n",
      "-------------------------------------------\n",
      "now: 2017-11-01 Wednesday 16:07:09 KST\n",
      "900 86.64\n",
      "('Model saved at', './train_CartPole_deep')\n"
     ]
    }
   ],
   "source": [
    "plt_means=[]\n",
    "init = tf.global_variables_initializer()\n",
    "\n",
    "# Launch the tensorflow graph\n",
    "with tf.Session() as sess:\n",
    "    sess.run(init)  \n",
    "    agent.before(sess)\n",
    "    \n",
    "    try_and_error(env, agent,\n",
    "                  total_episodes=1000,\n",
    "                  update_frequency=3,\n",
    "                  debug_frequency=100,\n",
    "                  learning_rate_frequency=50,\n",
    "                  is_train=True\n",
    "                 )\n",
    "    "
   ]
  },
  {
   "cell_type": "code",
   "execution_count": 5,
   "metadata": {},
   "outputs": [
    {
     "name": "stdout",
     "output_type": "stream",
     "text": [
      "Means of each bundle of episodes\n"
     ]
    },
    {
     "data": {
      "image/png": "[encoded data removed]",
      "text/plain": [
       "<matplotlib.figure.Figure at 0x39342d0>"
      ]
     },
     "metadata": {},
     "output_type": "display_data"
    },
    {
     "name": "stdout",
     "output_type": "stream",
     "text": [
      "now: 2017-11-01 Wednesday 16:07:14 KST\n"
     ]
    }
   ],
   "source": [
    "print(\"Means of each bundle of episodes\")\n",
    "plt.bar(range(len(plt_means)), plt_means, color=\"red\")\n",
    "plt.show()\n",
    "print_now()"
   ]
  },
  {
   "cell_type": "code",
   "execution_count": 6,
   "metadata": {},
   "outputs": [
    {
     "name": "stdout",
     "output_type": "stream",
     "text": [
      "INFO:tensorflow:Restoring parameters from ./train_CartPole_deep/model.ckpt\n",
      "('Model restored successfully from', './train_CartPole_deep')\n",
      "-------------------------------------------\n",
      "now: 2017-11-01 Wednesday 16:07:14 KST\n",
      "0 124.0\n",
      "('Model saved at', './train_CartPole_deep')\n",
      "-------------------------------------------\n",
      "now: 2017-11-01 Wednesday 16:07:19 KST\n",
      "100 126.3\n",
      "('Model saved at', './train_CartPole_deep')\n",
      "i: 200 new agent.learning_rate 0.000387420489\n",
      "-------------------------------------------\n",
      "now: 2017-11-01 Wednesday 16:07:25 KST\n",
      "200 139.86\n",
      "('Model saved at', './train_CartPole_deep')\n",
      "-------------------------------------------\n",
      "now: 2017-11-01 Wednesday 16:07:31 KST\n",
      "300 151.99\n",
      "('Model saved at', './train_CartPole_deep')\n",
      "i: 350 new agent.learning_rate 0.0003486784401\n",
      "-------------------------------------------\n",
      "now: 2017-11-01 Wednesday 16:07:37 KST\n",
      "400 176.2\n",
      "('Model saved at', './train_CartPole_deep')\n",
      "i: 450 new agent.learning_rate 0.00031381059609\n",
      "-------------------------------------------\n",
      "now: 2017-11-01 Wednesday 16:07:44 KST\n",
      "500 185.94\n",
      "('Model saved at', './train_CartPole_deep')\n",
      "i: 550 new agent.learning_rate 0.000282429536481\n",
      "i: 600 new agent.learning_rate 0.000254186582833\n",
      "-------------------------------------------\n",
      "now: 2017-11-01 Wednesday 16:07:51 KST\n",
      "600 186.83\n",
      "('Model saved at', './train_CartPole_deep')\n",
      "i: 700 new agent.learning_rate 0.00022876792455\n",
      "-------------------------------------------\n",
      "now: 2017-11-01 Wednesday 16:07:58 KST\n",
      "700 184.55\n",
      "('Model saved at', './train_CartPole_deep')\n",
      "i: 800 new agent.learning_rate 0.000205891132095\n",
      "-------------------------------------------\n",
      "now: 2017-11-01 Wednesday 16:08:05 KST\n",
      "800 188.24\n",
      "('Model saved at', './train_CartPole_deep')\n",
      "i: 900 new agent.learning_rate 0.000185302018885\n",
      "-------------------------------------------\n",
      "now: 2017-11-01 Wednesday 16:08:11 KST\n",
      "900 181.12\n",
      "('Model saved at', './train_CartPole_deep')\n",
      "now: 2017-11-01 Wednesday 16:08:18 KST\n"
     ]
    }
   ],
   "source": [
    "########## 기존 모델을 로딩하여 추가로 학습 후 저장하기 ##########\n",
    "\n",
    "# Launch the tensorflow graph\n",
    "with tf.Session() as sess:\n",
    "    \n",
    "    agent.load_model(sess, CHECK_POINT_DIR)\n",
    "    \n",
    "    try_and_error(env, agent,\n",
    "                  total_episodes=1000,\n",
    "                  update_frequency=3,\n",
    "                  debug_frequency=100,\n",
    "                  learning_rate_frequency=50,\n",
    "                  is_train=True\n",
    "                 )\n",
    "    \n",
    "\n",
    "print_now()"
   ]
  },
  {
   "cell_type": "code",
   "execution_count": 7,
   "metadata": {},
   "outputs": [
    {
     "name": "stdout",
     "output_type": "stream",
     "text": [
      "INFO:tensorflow:Restoring parameters from ./train_CartPole_deep/model.ckpt\n",
      "('Model restored successfully from', './train_CartPole_deep')\n",
      "-------------------------------------------\n",
      "now: 2017-11-01 Wednesday 16:08:18 KST\n",
      "0 200.0\n",
      "-------------------------------------------\n",
      "now: 2017-11-01 Wednesday 16:08:24 KST\n",
      "100 200.0\n",
      "-------------------------------------------\n",
      "now: 2017-11-01 Wednesday 16:08:30 KST\n",
      "200 200.0\n",
      "-------------------------------------------\n",
      "now: 2017-11-01 Wednesday 16:08:36 KST\n",
      "300 200.0\n",
      "-------------------------------------------\n",
      "now: 2017-11-01 Wednesday 16:08:42 KST\n",
      "400 200.0\n",
      "-------------------------------------------\n",
      "now: 2017-11-01 Wednesday 16:08:49 KST\n",
      "500 200.0\n",
      "-------------------------------------------\n",
      "now: 2017-11-01 Wednesday 16:08:55 KST\n",
      "600 200.0\n",
      "-------------------------------------------\n",
      "now: 2017-11-01 Wednesday 16:09:01 KST\n",
      "700 200.0\n",
      "-------------------------------------------\n",
      "now: 2017-11-01 Wednesday 16:09:07 KST\n",
      "800 200.0\n",
      "-------------------------------------------\n",
      "now: 2017-11-01 Wednesday 16:09:13 KST\n",
      "900 200.0\n"
     ]
    }
   ],
   "source": [
    "########## 기존 모델을 이용하기만 해보기 ##########\n",
    "\n",
    "# Launch the tensorflow graph\n",
    "with tf.Session() as sess:\n",
    "    agent.load_model(sess, CHECK_POINT_DIR)\n",
    "    agent.before(sess)\n",
    "    \n",
    "    try_and_error(env, agent,\n",
    "                  total_episodes=1000,\n",
    "                  update_frequency=3,\n",
    "                  debug_frequency=100,\n",
    "                  learning_rate_frequency=50,\n",
    "                  is_train=False\n",
    "                 )"
   ]
  },
  {
   "cell_type": "code",
   "execution_count": 8,
   "metadata": {},
   "outputs": [
    {
     "name": "stdout",
     "output_type": "stream",
     "text": [
      "Means of each bundle of episodes\n"
     ]
    },
    {
     "data": {
      "image/png": "[encoded data removed]",
      "text/plain": [
       "<matplotlib.figure.Figure at 0x7084dd0>"
      ]
     },
     "metadata": {},
     "output_type": "display_data"
    },
    {
     "name": "stdout",
     "output_type": "stream",
     "text": [
      "now: 2017-11-01 Wednesday 16:09:19 KST\n"
     ]
    }
   ],
   "source": [
    "print(\"Means of each bundle of episodes\")\n",
    "plt.bar(range(len(plt_means)), plt_means, color=\"red\")\n",
    "plt.show()\n",
    "print_now()"
   ]
  },
  {
   "cell_type": "code",
   "execution_count": 9,
   "metadata": {},
   "outputs": [
    {
     "name": "stdout",
     "output_type": "stream",
     "text": [
      "./train_CartPole_deep\n"
     ]
    },
    {
     "data": {
      "text/plain": [
       "['MultilayerPolicyGradient/MultilayerPolicyGradient/W2/Adam',\n",
       " 'MultilayerPolicyGradient/MultilayerPolicyGradient/W1/Adam',\n",
       " 'MultilayerPolicyGradient/Variable',\n",
       " 'MultilayerPolicyGradient/MultilayerPolicyGradient/W1/Adam_1',\n",
       " 'MultilayerPolicyGradient/Variable_1',\n",
       " 'MultilayerPolicyGradient/MultilayerPolicyGradient/W0/Adam',\n",
       " 'MultilayerPolicyGradient/Variable_2',\n",
       " 'MultilayerPolicyGradient/MultilayerPolicyGradient/W0/Adam_1',\n",
       " 'MultilayerPolicyGradient_1/beta2_power',\n",
       " 'MultilayerPolicyGradient/MultilayerPolicyGradient/Variable_2/Adam_1',\n",
       " 'MultilayerPolicyGradient/MultilayerPolicyGradient/Variable_2/Adam',\n",
       " 'MultilayerPolicyGradient/MultilayerPolicyGradient/W2/Adam_1',\n",
       " 'MultilayerPolicyGradient/MultilayerPolicyGradient/Variable_1/Adam_1',\n",
       " 'MultilayerPolicyGradient/MultilayerPolicyGradient/Variable/Adam_1',\n",
       " 'MultilayerPolicyGradient/MultilayerPolicyGradient/Variable_1/Adam',\n",
       " 'MultilayerPolicyGradient_1/beta1_power',\n",
       " 'MultilayerPolicyGradient/MultilayerPolicyGradient/Variable/Adam',\n",
       " 'MultilayerPolicyGradient/W1',\n",
       " 'MultilayerPolicyGradient/W0',\n",
       " 'MultilayerPolicyGradient/W2']"
      ]
     },
     "execution_count": 9,
     "metadata": {},
     "output_type": "execute_result"
    }
   ],
   "source": [
    "print CHECK_POINT_DIR \n",
    "agent.read_ckpt(CHECK_POINT_DIR)"
   ]
  },
  {
   "cell_type": "code",
   "execution_count": null,
   "metadata": {},
   "outputs": [],
   "source": []
  }
 ],
 "metadata": {
  "kernelspec": {
   "display_name": "Python 2",
   "language": "python",
   "name": "python2"
  },
  "language_info": {
   "codemirror_mode": {
    "name": "ipython",
    "version": 2
   },
   "file_extension": ".py",
   "mimetype": "text/x-python",
   "name": "python",
   "nbconvert_exporter": "python",
   "pygments_lexer": "ipython2",
   "version": "2.7.5"
  }
 },
 "nbformat": 4,
 "nbformat_minor": 2
}
