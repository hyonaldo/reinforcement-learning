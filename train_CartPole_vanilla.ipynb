{
 "cells": [
  {
   "cell_type": "code",
   "execution_count": 1,
   "metadata": {},
   "outputs": [
    {
     "name": "stdout",
     "output_type": "stream",
     "text": [
      "scope: VanillaPolicyGradient learning_rate: 0.01 discount_factor: 0.9 reward_standardize: True\n"
     ]
    }
   ],
   "source": [
    "\n",
    "import sys\n",
    "from agents import *\n",
    "\n",
    "import numpy as np\n",
    "import tensorflow as tf\n",
    "import matplotlib.pyplot as plt\n",
    "\n",
    "### where path to read & write\n",
    "\n",
    "notebook_name = \"train_CartPole_vanilla\"\n",
    "BASE_DIR = './'\n",
    "CHECK_POINT_DIR = BASE_DIR+notebook_name\n",
    "TB_SUMMARY_DIR = CHECK_POINT_DIR+\"/tb_summary\"\n",
    "\n",
    "### what env to use ###\n",
    "\n",
    "import gym\n",
    "env = gym.make('CartPole-v0')\n",
    "\n",
    "state_space_size = 0\n",
    "\n",
    "try:\n",
    "    state_space_size = env.observation_space.n\n",
    "except:\n",
    "    state_space_size = env.observation_space.shape[0]\n",
    "action_space_size = env.action_space.n\n",
    "\n",
    "state_size=state_space_size\n",
    "hidden_size=8\n",
    "action_size=action_space_size\n",
    "\n",
    "layers = [state_size, hidden_size, action_size]\n",
    "\n",
    "# Load the agent.\n",
    "init_learning_rate = 1e-2\n",
    "agent = VanillaPolicyGradient(learning_rate=init_learning_rate, discount_factor=0.9,\n",
    "                              layers=layers,\n",
    "                              reward_standardize=True\n",
    "                             ) \n"
   ]
  },
  {
   "cell_type": "code",
   "execution_count": 2,
   "metadata": {},
   "outputs": [
    {
     "name": "stdout",
     "output_type": "stream",
     "text": [
      "./train_CartPole_vanilla removed\n"
     ]
    }
   ],
   "source": [
    "import shutil\n",
    "try:\n",
    "    shutil.rmtree(CHECK_POINT_DIR)\n",
    "    print CHECK_POINT_DIR, \"removed\"\n",
    "except:\n",
    "    print CHECK_POINT_DIR, \"does not exists yet\"\n"
   ]
  },
  {
   "cell_type": "code",
   "execution_count": 3,
   "metadata": {},
   "outputs": [],
   "source": [
    "def print_now():\n",
    "    import datetime\n",
    "    from dateutil.tz import tzlocal\n",
    "\n",
    "    # Get the current date/time with the timezone.\n",
    "    now = datetime.datetime.now(tzlocal())\n",
    "    fmt1 = now.strftime('%Y-%m-%d %A %H:%M:%S %Z')\n",
    "\n",
    "    # Print it out.\n",
    "    print 'now: %s' % (fmt1)\n",
    "    \n",
    "def try_and_error(env, agent, total_episodes,\n",
    "                  update_frequency, learning_rate_frequency, debug_frequency,\n",
    "                  is_train = True\n",
    "                 ):\n",
    "    total_reward = []\n",
    "    min_learning_rate = 1e-10\n",
    "    decay_learning_rate = 0.9\n",
    "    previous_loss = 9e+10\n",
    "    last_save_name = \"\"\n",
    "\n",
    "    for i in range(total_episodes):\n",
    "        s = env.reset()\n",
    "        reward_sum = 0\n",
    "        \n",
    "        done = False\n",
    "        while not done:\n",
    "            # Run the policy network and get an action to take.\n",
    "            if is_train == True:\n",
    "                action = agent.get_action(sess, s)\n",
    "            else:\n",
    "                action = agent.exploit(sess, s)\n",
    "            \n",
    "            # step the environment and get new measurements\n",
    "            observation, reward, done, _ = env.step(action)\n",
    "            reward_sum += reward\n",
    "            agent.after_action(sess, reward)\n",
    "            \n",
    "            s = observation\n",
    "        \n",
    "        if is_train == True:\n",
    "            loss , _ , _ = agent.after_episode(sess)\n",
    "            # If we have completed enough episodes, then update the policy network with our gradients.\n",
    "            if i % update_frequency == 0 and i != 0:\n",
    "                agent.after_batch(sess)\n",
    "\n",
    "            # decaying learning rate\n",
    "            if i % learning_rate_frequency == 0 and i != 0:\n",
    "                if (loss > previous_loss and agent.learning_rate >= min_learning_rate):\n",
    "                    agent.learning_rate = agent.learning_rate * decay_learning_rate\n",
    "                    print \"i:\", i, \"new agent.learning_rate\", agent.learning_rate\n",
    "                previous_loss = loss\n",
    "\n",
    "        total_reward.append(reward_sum)\n",
    "        \n",
    "        #Update our running tally of scores.\n",
    "        if i % debug_frequency == 0:\n",
    "            print \"-------------------------------------------\"\n",
    "            print_now()\n",
    "            mean = np.mean(total_reward)\n",
    "            print i, (mean)\n",
    "            plt_means.append(mean)\n",
    "            total_reward = []\n",
    "            if is_train == True and loss <= previous_loss:\n",
    "                # save only better model\n",
    "                agent.save_model(sess, CHECK_POINT_DIR)\n"
   ]
  },
  {
   "cell_type": "code",
   "execution_count": 4,
   "metadata": {},
   "outputs": [
    {
     "name": "stdout",
     "output_type": "stream",
     "text": [
      "-------------------------------------------\n",
      "now: 2017-11-01 Wednesday 17:18:44 KST\n",
      "0 9.0\n",
      "Model saved at ./train_CartPole_vanilla\n",
      "i: 100 new agent.learning_rate 0.009\n",
      "-------------------------------------------\n",
      "now: 2017-11-01 Wednesday 17:18:45 KST\n",
      "100 24.15\n",
      "Model saved at ./train_CartPole_vanilla\n",
      "i: 200 new agent.learning_rate 0.0081\n",
      "-------------------------------------------\n",
      "now: 2017-11-01 Wednesday 17:18:46 KST\n",
      "200 30.96\n",
      "Model saved at ./train_CartPole_vanilla\n",
      "-------------------------------------------\n",
      "now: 2017-11-01 Wednesday 17:18:48 KST\n",
      "300 48.99\n",
      "Model saved at ./train_CartPole_vanilla\n",
      "i: 350 new agent.learning_rate 0.00729\n",
      "i: 400 new agent.learning_rate 0.006561\n",
      "-------------------------------------------\n",
      "now: 2017-11-01 Wednesday 17:18:51 KST\n",
      "400 74.76\n",
      "Model saved at ./train_CartPole_vanilla\n",
      "i: 450 new agent.learning_rate 0.0059049\n",
      "-------------------------------------------\n",
      "now: 2017-11-01 Wednesday 17:18:54 KST\n",
      "500 80.78\n",
      "Model saved at ./train_CartPole_vanilla\n",
      "i: 550 new agent.learning_rate 0.00531441\n",
      "-------------------------------------------\n",
      "now: 2017-11-01 Wednesday 17:18:59 KST\n",
      "600 134.56\n",
      "Model saved at ./train_CartPole_vanilla\n",
      "i: 700 new agent.learning_rate 0.004782969\n",
      "-------------------------------------------\n",
      "now: 2017-11-01 Wednesday 17:19:06 KST\n",
      "700 171.25\n",
      "Model saved at ./train_CartPole_vanilla\n",
      "i: 750 new agent.learning_rate 0.0043046721\n",
      "i: 800 new agent.learning_rate 0.00387420489\n",
      "-------------------------------------------\n",
      "now: 2017-11-01 Wednesday 17:19:12 KST\n",
      "800 179.68\n",
      "Model saved at ./train_CartPole_vanilla\n",
      "i: 900 new agent.learning_rate 0.003486784401\n",
      "-------------------------------------------\n",
      "now: 2017-11-01 Wednesday 17:19:20 KST\n",
      "900 197.59\n",
      "Model saved at ./train_CartPole_vanilla\n",
      "i: 950 new agent.learning_rate 0.0031381059609\n"
     ]
    }
   ],
   "source": [
    "plt_means=[]\n",
    "init = tf.global_variables_initializer()\n",
    "\n",
    "# Launch the tensorflow graph\n",
    "with tf.Session() as sess:\n",
    "    sess.run(init)  \n",
    "    agent.before(sess)\n",
    "    \n",
    "    try_and_error(env, agent,\n",
    "                  total_episodes=1000,\n",
    "                  update_frequency=3,\n",
    "                  debug_frequency=100,\n",
    "                  learning_rate_frequency=50,\n",
    "                  is_train=True\n",
    "                 )\n",
    "    "
   ]
  },
  {
   "cell_type": "code",
   "execution_count": 5,
   "metadata": {},
   "outputs": [
    {
     "name": "stdout",
     "output_type": "stream",
     "text": [
      "Means of each bundle of episodes\n"
     ]
    },
    {
     "data": {
      "image/png": "[encoded data removed]",
      "text/plain": [
       "<matplotlib.figure.Figure at 0x3c35150>"
      ]
     },
     "metadata": {},
     "output_type": "display_data"
    },
    {
     "name": "stdout",
     "output_type": "stream",
     "text": [
      "now: 2017-11-01 Wednesday 17:19:27 KST\n"
     ]
    }
   ],
   "source": [
    "print(\"Means of each bundle of episodes\")\n",
    "plt.bar(range(len(plt_means)), plt_means, color=\"red\")\n",
    "plt.show()\n",
    "print_now()"
   ]
  },
  {
   "cell_type": "code",
   "execution_count": 6,
   "metadata": {},
   "outputs": [
    {
     "name": "stdout",
     "output_type": "stream",
     "text": [
      "INFO:tensorflow:Restoring parameters from ./train_CartPole_vanilla/model.ckpt-201711011719\n",
      "Model restored successfully from ./train_CartPole_vanilla\n",
      "-------------------------------------------\n",
      "now: 2017-11-01 Wednesday 17:19:27 KST\n",
      "0 200.0\n",
      "Model saved at ./train_CartPole_vanilla\n",
      "i: 100 new agent.learning_rate 0.00282429536481\n",
      "-------------------------------------------\n",
      "now: 2017-11-01 Wednesday 17:19:35 KST\n",
      "100 199.72\n",
      "Model saved at ./train_CartPole_vanilla\n",
      "-------------------------------------------\n",
      "now: 2017-11-01 Wednesday 17:19:42 KST\n",
      "200 199.72\n",
      "Model saved at ./train_CartPole_vanilla\n",
      "i: 250 new agent.learning_rate 0.00254186582833\n",
      "i: 300 new agent.learning_rate 0.0022876792455\n",
      "-------------------------------------------\n",
      "now: 2017-11-01 Wednesday 17:19:50 KST\n",
      "300 199.48\n",
      "Model saved at ./train_CartPole_vanilla\n",
      "-------------------------------------------\n",
      "now: 2017-11-01 Wednesday 17:19:57 KST\n",
      "400 198.5\n",
      "Model saved at ./train_CartPole_vanilla\n",
      "i: 450 new agent.learning_rate 0.00205891132095\n",
      "i: 500 new agent.learning_rate 0.00185302018885\n",
      "-------------------------------------------\n",
      "now: 2017-11-01 Wednesday 17:20:05 KST\n",
      "500 200.0\n",
      "Model saved at ./train_CartPole_vanilla\n",
      "i: 550 new agent.learning_rate 0.00166771816997\n",
      "-------------------------------------------\n",
      "now: 2017-11-01 Wednesday 17:20:12 KST\n",
      "600 199.45\n",
      "Model saved at ./train_CartPole_vanilla\n",
      "i: 650 new agent.learning_rate 0.00150094635297\n",
      "-------------------------------------------\n",
      "now: 2017-11-01 Wednesday 17:20:20 KST\n",
      "700 199.4\n",
      "Model saved at ./train_CartPole_vanilla\n",
      "i: 750 new agent.learning_rate 0.00135085171767\n",
      "-------------------------------------------\n",
      "now: 2017-11-01 Wednesday 17:20:27 KST\n",
      "800 195.11\n",
      "Model saved at ./train_CartPole_vanilla\n",
      "-------------------------------------------\n",
      "now: 2017-11-01 Wednesday 17:20:35 KST\n",
      "900 192.74\n",
      "Model saved at ./train_CartPole_vanilla\n",
      "i: 950 new agent.learning_rate 0.00121576654591\n",
      "now: 2017-11-01 Wednesday 17:20:41 KST\n"
     ]
    }
   ],
   "source": [
    "########## 기존 모델을 로딩하여 추가로 학습 후 저장하기 ##########\n",
    "\n",
    "# Launch the tensorflow graph\n",
    "with tf.Session() as sess:\n",
    "    \n",
    "    agent.load_model(sess, CHECK_POINT_DIR)\n",
    "    \n",
    "    try_and_error(env, agent,\n",
    "                  total_episodes=1000,\n",
    "                  update_frequency=3,\n",
    "                  debug_frequency=100,\n",
    "                  learning_rate_frequency=50,\n",
    "                  is_train=True\n",
    "                 )\n",
    "    \n",
    "\n",
    "print_now()"
   ]
  },
  {
   "cell_type": "code",
   "execution_count": 7,
   "metadata": {},
   "outputs": [
    {
     "name": "stdout",
     "output_type": "stream",
     "text": [
      "INFO:tensorflow:Restoring parameters from ./train_CartPole_vanilla/model.ckpt-201711011720\n",
      "Model restored successfully from ./train_CartPole_vanilla\n",
      "-------------------------------------------\n",
      "now: 2017-11-01 Wednesday 17:20:41 KST\n",
      "0 200.0\n",
      "-------------------------------------------\n",
      "now: 2017-11-01 Wednesday 17:20:47 KST\n",
      "100 200.0\n",
      "-------------------------------------------\n",
      "now: 2017-11-01 Wednesday 17:20:53 KST\n",
      "200 200.0\n",
      "-------------------------------------------\n",
      "now: 2017-11-01 Wednesday 17:20:58 KST\n",
      "300 200.0\n",
      "-------------------------------------------\n",
      "now: 2017-11-01 Wednesday 17:21:04 KST\n",
      "400 200.0\n",
      "-------------------------------------------\n",
      "now: 2017-11-01 Wednesday 17:21:10 KST\n",
      "500 200.0\n",
      "-------------------------------------------\n",
      "now: 2017-11-01 Wednesday 17:21:15 KST\n",
      "600 200.0\n",
      "-------------------------------------------\n",
      "now: 2017-11-01 Wednesday 17:21:21 KST\n",
      "700 200.0\n",
      "-------------------------------------------\n",
      "now: 2017-11-01 Wednesday 17:21:27 KST\n",
      "800 200.0\n",
      "-------------------------------------------\n",
      "now: 2017-11-01 Wednesday 17:21:33 KST\n",
      "900 199.86\n"
     ]
    }
   ],
   "source": [
    "########## 기존 모델을 이용하기만 해보기 ##########\n",
    "\n",
    "# Launch the tensorflow graph\n",
    "with tf.Session() as sess:\n",
    "    agent.load_model(sess, CHECK_POINT_DIR)\n",
    "    agent.before(sess)\n",
    "    \n",
    "    try_and_error(env, agent,\n",
    "                  total_episodes=1000,\n",
    "                  update_frequency=3,\n",
    "                  debug_frequency=100,\n",
    "                  learning_rate_frequency=50,\n",
    "                  is_train=False\n",
    "                 )"
   ]
  },
  {
   "cell_type": "code",
   "execution_count": 8,
   "metadata": {},
   "outputs": [
    {
     "name": "stdout",
     "output_type": "stream",
     "text": [
      "Means of each bundle of episodes\n"
     ]
    },
    {
     "data": {
      "image/png": "[encoded data removed]",
      "text/plain": [
       "<matplotlib.figure.Figure at 0x9468250>"
      ]
     },
     "metadata": {},
     "output_type": "display_data"
    },
    {
     "name": "stdout",
     "output_type": "stream",
     "text": [
      "now: 2017-11-01 Wednesday 17:21:38 KST\n"
     ]
    }
   ],
   "source": [
    "print(\"Means of each bundle of episodes\")\n",
    "plt.bar(range(len(plt_means)), plt_means, color=\"red\")\n",
    "plt.show()\n",
    "print_now()"
   ]
  },
  {
   "cell_type": "code",
   "execution_count": 9,
   "metadata": {},
   "outputs": [
    {
     "data": {
      "text/plain": [
       "['VanillaPolicyGradient/VanillaPolicyGradient/fully_connected/weights/Adam',\n",
       " 'VanillaPolicyGradient/VanillaPolicyGradient/fully_connected/weights/Adam_1',\n",
       " 'VanillaPolicyGradient/VanillaPolicyGradient/fully_connected_1/weights/Adam',\n",
       " 'VanillaPolicyGradient/VanillaPolicyGradient/fully_connected_1/weights/Adam_1',\n",
       " 'VanillaPolicyGradient/fully_connected/weights',\n",
       " 'VanillaPolicyGradient/fully_connected_1/weights',\n",
       " 'VanillaPolicyGradient_1/beta1_power',\n",
       " 'VanillaPolicyGradient_1/beta2_power']"
      ]
     },
     "execution_count": 9,
     "metadata": {},
     "output_type": "execute_result"
    }
   ],
   "source": [
    "sorted(agent.read_ckpt(CHECK_POINT_DIR))"
   ]
  },
  {
   "cell_type": "code",
   "execution_count": null,
   "metadata": {},
   "outputs": [],
   "source": []
  }
 ],
 "metadata": {
  "kernelspec": {
   "display_name": "Python 2",
   "language": "python",
   "name": "python2"
  },
  "language_info": {
   "codemirror_mode": {
    "name": "ipython",
    "version": 2
   },
   "file_extension": ".py",
   "mimetype": "text/x-python",
   "name": "python",
   "nbconvert_exporter": "python",
   "pygments_lexer": "ipython2",
   "version": "2.7.5"
  }
 },
 "nbformat": 4,
 "nbformat_minor": 2
}
